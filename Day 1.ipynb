{
 "cells": [
  {
   "cell_type": "code",
   "execution_count": 1,
   "id": "ba1b1046",
   "metadata": {},
   "outputs": [],
   "source": [
    "#string manupulation\n",
    "use \\n to add separate line"
   ]
  },
  {
   "cell_type": "code",
   "execution_count": 2,
   "id": "d56e2ea6",
   "metadata": {},
   "outputs": [
    {
     "name": "stdout",
     "output_type": "stream",
     "text": [
      "hello world!\n",
      "hello world!\n"
     ]
    }
   ],
   "source": [
    "print(\"hello world!\\nhello world!\")"
   ]
  },
  {
   "cell_type": "code",
   "execution_count": 4,
   "id": "7f9a2ecb",
   "metadata": {},
   "outputs": [],
   "source": [
    "#use + to combine strings\n",
    "#remember they dont add space in between"
   ]
  },
  {
   "cell_type": "code",
   "execution_count": 10,
   "id": "80c69731",
   "metadata": {},
   "outputs": [
    {
     "name": "stdout",
     "output_type": "stream",
     "text": [
      "helloneo\n",
      "hello neo\n",
      "hello neo\n"
     ]
    }
   ],
   "source": [
    "print(\"hello\"+'neo')\n",
    "print(\"hello \"+'neo')\n",
    "print('hello'+' '+'neo')"
   ]
  },
  {
   "cell_type": "code",
   "execution_count": null,
   "id": "95a58073",
   "metadata": {},
   "outputs": [],
   "source": []
  }
 ],
 "metadata": {
  "kernelspec": {
   "display_name": "Python 3 (ipykernel)",
   "language": "python",
   "name": "python3"
  },
  "language_info": {
   "codemirror_mode": {
    "name": "ipython",
    "version": 3
   },
   "file_extension": ".py",
   "mimetype": "text/x-python",
   "name": "python",
   "nbconvert_exporter": "python",
   "pygments_lexer": "ipython3",
   "version": "3.9.7"
  }
 },
 "nbformat": 4,
 "nbformat_minor": 5
}
