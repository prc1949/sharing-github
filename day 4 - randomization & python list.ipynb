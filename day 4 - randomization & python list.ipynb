{
 "cells": [
  {
   "cell_type": "code",
   "execution_count": 3,
   "id": "c9a9fd0f",
   "metadata": {},
   "outputs": [
    {
     "name": "stdout",
     "output_type": "stream",
     "text": [
      "17\n",
      "0.6449025046556406\n",
      "4.156195167771851\n"
     ]
    }
   ],
   "source": [
    "import random\n",
    "\n",
    "random_int=random.randint(1,99)\n",
    "print(random_int)\n",
    "\n",
    "random_float = random.random()\n",
    "print(random_float)\n",
    "\n",
    "\n",
    "#random 是一个module\n",
    "#randint() 是random module里面生成随机整数的function, 括号里需要添加随机整数的lower and upper limit, 且包括两端的数\n",
    "#random ()是random module里面随机生成float数的function， 后面括号不需要添加任何， 生成0 - 1之间的float，且不包括0和1\n",
    "\n",
    "#如果想取 0 - 5的float， 可以在random（）后 * 5\n",
    "\n",
    "random_float1 = random.random()*5\n",
    "print(random_float1)\n"
   ]
  },
  {
   "cell_type": "code",
   "execution_count": 9,
   "id": "9adff8f5",
   "metadata": {},
   "outputs": [
    {
     "name": "stdout",
     "output_type": "stream",
     "text": [
      "Tails\n"
     ]
    }
   ],
   "source": [
    "#heads and tails challenges\n",
    "\n",
    "import random\n",
    "\n",
    "random_number = random.randint(0,1)\n",
    "\n",
    "if random_number == 1:\n",
    "    print(\"Heads\")\n",
    "else:\n",
    "    print(\"Tails\")"
   ]
  },
  {
   "cell_type": "code",
   "execution_count": null,
   "id": "64fba4c9",
   "metadata": {},
   "outputs": [],
   "source": []
  },
  {
   "cell_type": "code",
   "execution_count": 11,
   "id": "985e7681",
   "metadata": {},
   "outputs": [
    {
     "name": "stdout",
     "output_type": "stream",
     "text": [
      "['item 1', 'item 2']\n",
      "['apple', 'banana', 1, 2]\n"
     ]
    }
   ],
   "source": [
    "#list\n",
    "\n",
    "#syntax\n",
    "\n",
    "fruits = [\"item 1\",\"item 2\"]\n",
    "print(fruits)\n",
    "\n",
    "#list can contain different data types\n",
    "\n",
    "fruits2 = [\"apple\",\"banana\",1,2]\n",
    "print(fruits2)\n"
   ]
  },
  {
   "cell_type": "code",
   "execution_count": 12,
   "id": "c50e6979",
   "metadata": {},
   "outputs": [
    {
     "name": "stdout",
     "output_type": "stream",
     "text": [
      "apple\n"
     ]
    }
   ],
   "source": [
    "#the sequence of list is important\n",
    "\n",
    "#the order is determined by the order in the list\n",
    "\n",
    "#you can use the index function to see how \n",
    "\n",
    "print(fruits2[0])"
   ]
  },
  {
   "cell_type": "code",
   "execution_count": null,
   "id": "be81ac8f",
   "metadata": {},
   "outputs": [],
   "source": []
  }
 ],
 "metadata": {
  "kernelspec": {
   "display_name": "Python 3 (ipykernel)",
   "language": "python",
   "name": "python3"
  },
  "language_info": {
   "codemirror_mode": {
    "name": "ipython",
    "version": 3
   },
   "file_extension": ".py",
   "mimetype": "text/x-python",
   "name": "python",
   "nbconvert_exporter": "python",
   "pygments_lexer": "ipython3",
   "version": "3.9.7"
  }
 },
 "nbformat": 4,
 "nbformat_minor": 5
}
