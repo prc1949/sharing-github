{
 "cells": [
  {
   "cell_type": "code",
   "execution_count": null,
   "id": "de1c23da",
   "metadata": {},
   "outputs": [],
   "source": [
    "print(\"Welcome to the rollercoaster\")\n",
    "height = int(input(\"What is your height in cm\"))\n",
    "\n",
    "if height >= 120:\n",
    "    print(\"You can ride the rollercoaster!\")\n",
    "else:\n",
    "    print(\"sorry, you have to grow taller before you can ride.\")\n",
    "    \n",
    "# comparison operators\n",
    "# >=\n",
    "# <=\n",
    "#be careful for the sequence\n",
    "# == meaning equal to\n",
    "# !# meaning not equal to"
   ]
  },
  {
   "cell_type": "code",
   "execution_count": null,
   "id": "75e517b2",
   "metadata": {},
   "outputs": [],
   "source": [
    "# the modulo give the reminder after division\n"
   ]
  },
  {
   "cell_type": "code",
   "execution_count": null,
   "id": "e4875d20",
   "metadata": {},
   "outputs": [],
   "source": [
    "8 % 5"
   ]
  },
  {
   "cell_type": "code",
   "execution_count": 1,
   "id": "94ced209",
   "metadata": {},
   "outputs": [
    {
     "name": "stdout",
     "output_type": "stream",
     "text": [
      "Welcome to the rollercoaster\n",
      "What is your height in cm120\n",
      "You can ride the rollercoaster!\n",
      "what is your age13\n",
      "you pay 7\n"
     ]
    }
   ],
   "source": [
    "#nested if/else statement\n",
    "\n",
    "print(\"Welcome to the rollercoaster\")\n",
    "height = int(input(\"What is your height in cm\"))\n",
    "\n",
    "if height >= 120:\n",
    "    print(\"You can ride the rollercoaster!\")\n",
    "\n",
    "age = int(input(\"what is your age\"))\n",
    "    if age > 18:\n",
    "        print(\"you pay 12\")\n",
    "    elif age < 12:\n",
    "        print(\"you pay 5\")\n",
    "    else:\n",
    "        print(\"you pay 7\")\n",
    "    \n",
    "    \n",
    "else:\n",
    "    print(\"sorry, you have to grow taller before you can ride.\")"
   ]
  },
  {
   "cell_type": "code",
   "execution_count": 2,
   "id": "9ee85b83",
   "metadata": {},
   "outputs": [],
   "source": [
    "# there could be unlimited elif statement between if and else"
   ]
  },
  {
   "cell_type": "code",
   "execution_count": 3,
   "id": "cff2c544",
   "metadata": {},
   "outputs": [
    {
     "name": "stdout",
     "output_type": "stream",
     "text": [
      "enter your height in m: 1.75\n",
      "enter your weight in kg: 60\n",
      "Your BMI is 20, you have a normal weight\n"
     ]
    }
   ],
   "source": [
    "# 🚨 Don't change the code below 👇\n",
    "height = float(input(\"enter your height in m: \"))\n",
    "weight = float(input(\"enter your weight in kg: \"))\n",
    "# 🚨 Don't change the code above 👆\n",
    "\n",
    "#Write your code below this line 👇\n",
    "BMI = round(weight / height ** 2)\n",
    "\n",
    "if BMI <= 18.5:\n",
    "    print(f\"Your BMI is {BMI}, you are underweight\")\n",
    "elif BMI < 25:\n",
    "    print(f\"Your BMI is {BMI}, you have a normal weight\")\n",
    "elif BMI < 30: \n",
    "    print(f\"Your BMI is {BMI}, you are slight overweight\")\n",
    "elif BMI < 35:\n",
    "    print(f\"Your BMI is {BMI}, you are obese\")\n",
    "else:\n",
    "    print(f\"Your BMI is {BMI}, you are clinically obese\")"
   ]
  },
  {
   "cell_type": "code",
   "execution_count": null,
   "id": "84c7e8f9",
   "metadata": {},
   "outputs": [],
   "source": [
    "#leap yar check challenge\n",
    "# 🚨 Don't change the code below 👇\n",
    "year = int(input(\"Which year do you want to check? \"))\n",
    "# 🚨 Don't change the code above 👆\n",
    "\n",
    "#Write your code below this line 👇\n",
    "\n",
    "\n",
    "#my code\n",
    "\n",
    "if year % 4 == 0: \n",
    "    print(\"leap year\")\n",
    "elif year % 4 == 0 and year % 100 !=0:\n",
    "    print(\"not leap year\")\n",
    "elif year % 4 == 0 and year % 100 == 0:\n",
    "    print(\"leap year\")\n",
    "    \n",
    "elif year % 400 == 0:\n",
    "    print(\"leap year\")\n",
    "\n",
    "elif year % 400 != 0:\n",
    "    print(\"Not leap year\")\n",
    "\n",
    "else:\n",
    "    print(\"Not leap year\")\n"
   ]
  },
  {
   "cell_type": "code",
   "execution_count": null,
   "id": "fef0b26d",
   "metadata": {},
   "outputs": [],
   "source": [
    "# 🚨 Don't change the code below 👇\n",
    "year = int(input(\"Which year do you want to check? \"))\n",
    "# 🚨 Don't change the code above 👆\n",
    "\n",
    "#Write your code below this line 👇\n",
    "\n",
    "#angela's code\n",
    "\n",
    "if year % 4 == 0:\n",
    "    if year % 100 == 0:\n",
    "        if year % 400 == 0:\n",
    "            print(\"leap year\")\n",
    "        else:\n",
    "            print(\"not leap year\")\n",
    "    else: \n",
    "        print(\"Leap year\")\n",
    "else:\n",
    "    print(\"not Leap year\")\n",
    "\n"
   ]
  },
  {
   "cell_type": "code",
   "execution_count": null,
   "id": "39f2daee",
   "metadata": {},
   "outputs": [],
   "source": [
    "#multiple if statement in succession\n",
    "\n",
    "height = int(input(\"What is your height in cm?\"))\n",
    "\n",
    "\n",
    "\n",
    "\n",
    "if height >= 120:\n",
    "    print(\"You can play rollercoaster\")\n",
    "\n",
    "    age = int(input(\"What is your age?\"))\n",
    "    if age <=12:\n",
    "        bill = 5\n",
    "        print(\"your bill is 5\")\n",
    "    elif age <=18:\n",
    "        bill = 7\n",
    "        print(\"Your bill is 7\")\n",
    "    else:\n",
    "        bill = 12\n",
    "        print(\"Your bill is 12\")\n",
    "        \n",
    "#note how the multiple if statement work here\n",
    "#also note how to add an variable attached to each if/elif statement. \n",
    "\n",
    "    want_photo = input(\"Do you want photo? Y or N\")\n",
    "    if want_photo == \"Y\":\n",
    "        bill += 3\n",
    "#note that here you dont need to add \"else\" statement as there is nothing to be executed.\n",
    "\n",
    "    print(f\"Your total bill is {bill} \")\n",
    "    \n",
    "else:\n",
    "    print(\"You need to grow tall to play.\")\n",
    "    \n"
   ]
  },
  {
   "cell_type": "code",
   "execution_count": null,
   "id": "9dd471eb",
   "metadata": {},
   "outputs": [],
   "source": []
  },
  {
   "cell_type": "code",
   "execution_count": null,
   "id": "4cb9c654",
   "metadata": {},
   "outputs": [],
   "source": []
  },
  {
   "cell_type": "code",
   "execution_count": null,
   "id": "ac203d56",
   "metadata": {},
   "outputs": [],
   "source": []
  }
 ],
 "metadata": {
  "kernelspec": {
   "display_name": "Python 3 (ipykernel)",
   "language": "python",
   "name": "python3"
  },
  "language_info": {
   "codemirror_mode": {
    "name": "ipython",
    "version": 3
   },
   "file_extension": ".py",
   "mimetype": "text/x-python",
   "name": "python",
   "nbconvert_exporter": "python",
   "pygments_lexer": "ipython3",
   "version": "3.9.7"
  }
 },
 "nbformat": 4,
 "nbformat_minor": 5
}
