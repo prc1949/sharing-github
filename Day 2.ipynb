{
 "cells": [
  {
   "cell_type": "code",
   "execution_count": 1,
   "id": "52c8143d",
   "metadata": {},
   "outputs": [
    {
     "name": "stdout",
     "output_type": "stream",
     "text": [
      "579\n"
     ]
    }
   ],
   "source": [
    "#integer\n",
    "print(123 + 456)"
   ]
  },
  {
   "cell_type": "code",
   "execution_count": 2,
   "id": "7e3ef406",
   "metadata": {},
   "outputs": [],
   "source": [
    "#123456789 = 123_456_789\n",
    "#it's just make larger number more readable, but python would take out _ when it execute"
   ]
  },
  {
   "cell_type": "code",
   "execution_count": 3,
   "id": "8b461571",
   "metadata": {},
   "outputs": [],
   "source": [
    "#Float Floating point number\n",
    "3.13159"
   ]
  },
  {
   "cell_type": "code",
   "execution_count": 4,
   "id": "c3900915",
   "metadata": {},
   "outputs": [
    {
     "data": {
      "text/plain": [
       "False"
      ]
     },
     "execution_count": 4,
     "metadata": {},
     "output_type": "execute_result"
    }
   ],
   "source": [
    "#Boolean\n",
    "True\n",
    "False\n",
    "#it has capital T and F\n",
    "#it has no quotation mark\n"
   ]
  },
  {
   "cell_type": "code",
   "execution_count": 7,
   "id": "f3f01886",
   "metadata": {},
   "outputs": [
    {
     "name": "stdout",
     "output_type": "stream",
     "text": [
      "yo\n"
     ]
    }
   ],
   "source": [
    "#quiz\n",
    "street_name = \"Abbey Road\"\n",
    "print(street_name[4] + street_name[7])"
   ]
  },
  {
   "cell_type": "code",
   "execution_count": 8,
   "id": "f8ac48bc",
   "metadata": {},
   "outputs": [
    {
     "ename": "TypeError",
     "evalue": "object of type 'int' has no len()",
     "output_type": "error",
     "traceback": [
      "\u001b[0;31m---------------------------------------------------------------------------\u001b[0m",
      "\u001b[0;31mTypeError\u001b[0m                                 Traceback (most recent call last)",
      "\u001b[0;32m/var/folders/dq/lpgp0qt15m7_0ts9pdq5x8cm0000gn/T/ipykernel_5570/874700813.py\u001b[0m in \u001b[0;36m<module>\u001b[0;34m\u001b[0m\n\u001b[0;32m----> 1\u001b[0;31m \u001b[0mlen\u001b[0m\u001b[0;34m(\u001b[0m\u001b[0;36m4578\u001b[0m\u001b[0;34m)\u001b[0m\u001b[0;34m\u001b[0m\u001b[0;34m\u001b[0m\u001b[0m\n\u001b[0m",
      "\u001b[0;31mTypeError\u001b[0m: object of type 'int' has no len()"
     ]
    }
   ],
   "source": [
    "#type error\n",
    "#len is a function to return the length of a string\n",
    "\n",
    "len(4578)"
   ]
  },
  {
   "cell_type": "code",
   "execution_count": 11,
   "id": "b2533c26",
   "metadata": {},
   "outputs": [
    {
     "data": {
      "text/plain": [
       "int"
      ]
     },
     "execution_count": 11,
     "metadata": {},
     "output_type": "execute_result"
    }
   ],
   "source": [
    "type(6)\n",
    "#type() function is a function to check the type of data\n"
   ]
  },
  {
   "cell_type": "code",
   "execution_count": 12,
   "id": "1ba5ec28",
   "metadata": {},
   "outputs": [
    {
     "name": "stdout",
     "output_type": "stream",
     "text": [
      "6\n"
     ]
    }
   ],
   "source": [
    "print(6)"
   ]
  },
  {
   "cell_type": "code",
   "execution_count": 13,
   "id": "7993bcaf",
   "metadata": {},
   "outputs": [
    {
     "name": "stdout",
     "output_type": "stream",
     "text": [
      "what is your nameneo\n"
     ]
    },
    {
     "ename": "TypeError",
     "evalue": "can only concatenate str (not \"int\") to str",
     "output_type": "error",
     "traceback": [
      "\u001b[0;31m---------------------------------------------------------------------------\u001b[0m",
      "\u001b[0;31mTypeError\u001b[0m                                 Traceback (most recent call last)",
      "\u001b[0;32m/var/folders/dq/lpgp0qt15m7_0ts9pdq5x8cm0000gn/T/ipykernel_5570/1690427173.py\u001b[0m in \u001b[0;36m<module>\u001b[0;34m\u001b[0m\n\u001b[1;32m      1\u001b[0m \u001b[0mnum_char\u001b[0m \u001b[0;34m=\u001b[0m \u001b[0mlen\u001b[0m\u001b[0;34m(\u001b[0m\u001b[0minput\u001b[0m\u001b[0;34m(\u001b[0m\u001b[0;34m\"what is your name\"\u001b[0m\u001b[0;34m)\u001b[0m\u001b[0;34m)\u001b[0m\u001b[0;34m\u001b[0m\u001b[0;34m\u001b[0m\u001b[0m\n\u001b[0;32m----> 2\u001b[0;31m \u001b[0mprint\u001b[0m\u001b[0;34m(\u001b[0m\u001b[0;34m\"Your name has \"\u001b[0m \u001b[0;34m+\u001b[0m \u001b[0mnum_char\u001b[0m \u001b[0;34m+\u001b[0m \u001b[0;34m\"characters\"\u001b[0m\u001b[0;34m)\u001b[0m\u001b[0;34m\u001b[0m\u001b[0;34m\u001b[0m\u001b[0m\n\u001b[0m",
      "\u001b[0;31mTypeError\u001b[0m: can only concatenate str (not \"int\") to str"
     ]
    }
   ],
   "source": [
    "num_char = len(input(\"what is your name\"))\n",
    "print(\"Your name has \" + num_char + \"characters\")"
   ]
  },
  {
   "cell_type": "code",
   "execution_count": 14,
   "id": "00728ca0",
   "metadata": {},
   "outputs": [],
   "source": [
    "#becuase you can only concaternate (in other words, link) str to str\n",
    "#in order for the above function to work, you can convert the num_char from integer to string type\n",
    "#using str() function"
   ]
  },
  {
   "cell_type": "code",
   "execution_count": 16,
   "id": "2eb19a60",
   "metadata": {},
   "outputs": [
    {
     "name": "stdout",
     "output_type": "stream",
     "text": [
      "what is your nameneo\n",
      "Your name has 3 characters\n"
     ]
    }
   ],
   "source": [
    "num_char = len(input(\"what is your name\"))\n",
    "new_num_char = str(num_char)\n",
    "print(\"Your name has \" + new_num_char + \" characters\")"
   ]
  },
  {
   "cell_type": "code",
   "execution_count": 20,
   "id": "fbae0559",
   "metadata": {},
   "outputs": [
    {
     "name": "stdout",
     "output_type": "stream",
     "text": [
      "<class 'int'>\n",
      "<class 'str'>\n",
      "<class 'float'>\n",
      "170.5\n",
      "70100\n"
     ]
    }
   ],
   "source": [
    "#data type conversion funtion\n",
    "a = 123\n",
    "b = str (a)\n",
    "c = float(a)\n",
    "\n",
    "print(type(a))\n",
    "print(type(b))\n",
    "print(type(c))\n",
    "print(70 + float(\"100.5\"))\n",
    "print(str(70)+ str(100))"
   ]
  },
  {
   "cell_type": "code",
   "execution_count": 23,
   "id": "8a43e068",
   "metadata": {},
   "outputs": [
    {
     "name": "stdout",
     "output_type": "stream",
     "text": [
      "a+b\n"
     ]
    }
   ],
   "source": [
    "print(\"a+b\")"
   ]
  },
  {
   "cell_type": "code",
   "execution_count": 24,
   "id": "97ebb6a7",
   "metadata": {},
   "outputs": [
    {
     "name": "stdout",
     "output_type": "stream",
     "text": [
      "a+b = c\n"
     ]
    }
   ],
   "source": [
    "print(\"a+b = c\")"
   ]
  },
  {
   "cell_type": "code",
   "execution_count": 28,
   "id": "1cc06c3a",
   "metadata": {},
   "outputs": [
    {
     "ename": "SyntaxError",
     "evalue": "invalid syntax (649227788.py, line 11)",
     "output_type": "error",
     "traceback": [
      "\u001b[0;36m  File \u001b[0;32m\"/var/folders/dq/lpgp0qt15m7_0ts9pdq5x8cm0000gn/T/ipykernel_5570/649227788.py\"\u001b[0;36m, line \u001b[0;32m11\u001b[0m\n\u001b[0;31m    **\u001b[0m\n\u001b[0m    ^\u001b[0m\n\u001b[0;31mSyntaxError\u001b[0m\u001b[0;31m:\u001b[0m invalid syntax\n"
     ]
    }
   ],
   "source": [
    "#Mathematical operation\n",
    "3 + 5\n",
    "7 - 4\n",
    "3 * 2\n",
    "6 / 3\n",
    "2 ** 3\n",
    "#2的3次方\n",
    "\n",
    "#运算顺序\n",
    "()\n",
    "**\n",
    "* /\n",
    "+ -"
   ]
  },
  {
   "cell_type": "code",
   "execution_count": 27,
   "id": "4eff0786",
   "metadata": {},
   "outputs": [
    {
     "name": "stdout",
     "output_type": "stream",
     "text": [
      "7.0\n"
     ]
    }
   ],
   "source": [
    "print(3 * 3 + 3 / 3 - 3)"
   ]
  },
  {
   "cell_type": "code",
   "execution_count": 29,
   "id": "d3a2ac06",
   "metadata": {},
   "outputs": [
    {
     "name": "stdout",
     "output_type": "stream",
     "text": [
      "2.6666666666666665\n"
     ]
    }
   ],
   "source": [
    "#rounding\n",
    "print(8/3)"
   ]
  },
  {
   "cell_type": "code",
   "execution_count": 1,
   "id": "708aea4f",
   "metadata": {},
   "outputs": [
    {
     "name": "stdout",
     "output_type": "stream",
     "text": [
      "3\n"
     ]
    }
   ],
   "source": [
    "print(round(8/3))"
   ]
  },
  {
   "cell_type": "code",
   "execution_count": 32,
   "id": "43f2b6be",
   "metadata": {},
   "outputs": [
    {
     "name": "stdout",
     "output_type": "stream",
     "text": [
      "2.67\n",
      "2.67\n"
     ]
    }
   ],
   "source": [
    "print(round(8/3 , 2))\n",
    "print(round(2.6666 ,2))"
   ]
  },
  {
   "cell_type": "code",
   "execution_count": 34,
   "id": "4b60f9e2",
   "metadata": {},
   "outputs": [
    {
     "name": "stdout",
     "output_type": "stream",
     "text": [
      "2\n"
     ]
    }
   ],
   "source": [
    "print(8//3)\n",
    "#this will return the integer"
   ]
  },
  {
   "cell_type": "code",
   "execution_count": 4,
   "id": "9914994e",
   "metadata": {},
   "outputs": [
    {
     "name": "stdout",
     "output_type": "stream",
     "text": [
      "-2\n"
     ]
    }
   ],
   "source": [
    "#manupulate previous value of a variable\n",
    "score = 0\n",
    "score += 1\n",
    "score -= 3\n",
    "print(score)\n"
   ]
  },
  {
   "cell_type": "code",
   "execution_count": 7,
   "id": "2c3628c6",
   "metadata": {},
   "outputs": [
    {
     "name": "stdout",
     "output_type": "stream",
     "text": [
      "Your score is 0 and your height is 1.8, you are winning is True\n"
     ]
    }
   ],
   "source": [
    "#f-string\n",
    "#imagin you will have to print below\n",
    "score = 0\n",
    "height = 1.8\n",
    "isWinning = True\n",
    "\n",
    "#print(\"Your team is \" + str(score) + ...)\n",
    "\n",
    "#instead of convert all the non-string date to str, you can use F-string\n",
    "#add f before the double quotation mark. And put{} for the non-string data\n",
    "\n",
    "print(f\"Your score is {score} and your height is {height}, you are winning is {isWinning}\")"
   ]
  },
  {
   "cell_type": "code",
   "execution_count": null,
   "id": "cd3a796b",
   "metadata": {},
   "outputs": [],
   "source": []
  }
 ],
 "metadata": {
  "kernelspec": {
   "display_name": "Python 3 (ipykernel)",
   "language": "python",
   "name": "python3"
  },
  "language_info": {
   "codemirror_mode": {
    "name": "ipython",
    "version": 3
   },
   "file_extension": ".py",
   "mimetype": "text/x-python",
   "name": "python",
   "nbconvert_exporter": "python",
   "pygments_lexer": "ipython3",
   "version": "3.9.7"
  }
 },
 "nbformat": 4,
 "nbformat_minor": 5
}
